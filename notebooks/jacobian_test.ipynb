{
 "cells": [
  {
   "cell_type": "code",
   "execution_count": 4,
   "metadata": {},
   "outputs": [],
   "source": [
    "from torch.func import jacrev\n",
    "import torch"
   ]
  },
  {
   "cell_type": "code",
   "execution_count": 12,
   "metadata": {},
   "outputs": [
    {
     "name": "stdout",
     "output_type": "stream",
     "text": [
      "tensor([ 0.9876,  0.2281,  0.9289, -0.0118,  0.7421])\n"
     ]
    },
    {
     "data": {
      "text/plain": [
       "tensor([[ 0.9876,  0.0000,  0.0000, -0.0000,  0.0000],\n",
       "        [ 0.0000,  0.2281,  0.0000, -0.0000,  0.0000],\n",
       "        [ 0.0000,  0.0000,  0.9289, -0.0000,  0.0000],\n",
       "        [ 0.0000,  0.0000,  0.0000, -0.0118,  0.0000],\n",
       "        [ 0.0000,  0.0000,  0.0000, -0.0000,  0.7421]])"
      ]
     },
     "execution_count": 12,
     "metadata": {},
     "output_type": "execute_result"
    }
   ],
   "source": [
    "x = torch.randn(5)\n",
    "\n",
    "def f(x):\n",
    "    return x.sin()\n",
    "\n",
    "def g(x):\n",
    "    result = f(x)\n",
    "    return result, result\n",
    "\n",
    "print(x.cos())\n",
    "#calculates differentiated output, aux objects.\n",
    "jacobian_f, f_x = jacrev(g, has_aux=True)(x)\n",
    "jacobian_f"
   ]
  }
 ],
 "metadata": {
  "kernelspec": {
   "display_name": ".venv",
   "language": "python",
   "name": "python3"
  },
  "language_info": {
   "codemirror_mode": {
    "name": "ipython",
    "version": 3
   },
   "file_extension": ".py",
   "mimetype": "text/x-python",
   "name": "python",
   "nbconvert_exporter": "python",
   "pygments_lexer": "ipython3",
   "version": "3.12.3"
  }
 },
 "nbformat": 4,
 "nbformat_minor": 2
}
