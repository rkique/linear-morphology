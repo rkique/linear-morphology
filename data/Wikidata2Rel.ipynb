{
 "cells": [
  {
   "cell_type": "markdown",
   "metadata": {},
   "source": [
    "This notebook queries the Wikidata API for relational knowledge, saving it in a JSON format that can be read by `dataclasses_json` as Relation objects. The focus is on symmetric relations such as `married` or `is-sibling`, but low-context relations are another area of interest that can be explored further below."
   ]
  },
  {
   "cell_type": "code",
   "execution_count": 14,
   "metadata": {},
   "outputs": [
    {
     "name": "stdout",
     "output_type": "stream",
     "text": [
      "A2Rel.ipynb        Wikidata2Rel.ipynb \u001b[34mjson\u001b[m\u001b[m               \u001b[34mwikidata\u001b[m\u001b[m\n",
      "RelBenchmark.ipynb example.json       \u001b[34mtext\u001b[m\u001b[m\n"
     ]
    }
   ],
   "source": [
    "import sys\n",
    "sys.path.append('..')\n",
    "from lre.data import Relation, RelationSample\n",
    "import json\n",
    "import requests\n",
    "import pandas as pd\n",
    "!ls"
   ]
  },
  {
   "cell_type": "code",
   "execution_count": 11,
   "metadata": {},
   "outputs": [],
   "source": [
    "# Define the endpoint and query\n",
    "url = \"https://query.wikidata.org/sparql\"\n",
    "query = \"\"\"\n",
    "SELECT ?person ?personLabel ?sibling ?siblingLabel WHERE {\n",
    "  ?person wdt:P31 wd:Q5;    # Instance of human\n",
    "          wdt:P3373 ?sibling.  # Sibling relationship\n",
    "  SERVICE wikibase:label { bd:serviceParam wikibase:language \"[AUTO_LANGUAGE],en\". }\n",
    "}\n",
    "LIMIT 100\n",
    "\"\"\"\n",
    "\n",
    "# Send the request to the Wikidata SPARQL endpoint\n",
    "response = requests.get(url, params={'query': query, 'format': 'json'})\n",
    "data = response.json()"
   ]
  },
  {
   "cell_type": "code",
   "execution_count": 18,
   "metadata": {},
   "outputs": [],
   "source": [
    "relation_name = \"person - sibling\"\n",
    "relation_path_json = \"json/sym/person-sibling-r\" + \".json\"\n",
    "prompts = [\n",
    "    \"The sibling of {} is\",\n",
    "    ]\n",
    "# Extract results\n",
    "RelationSamples = []\n",
    "for item in data['results']['bindings']:\n",
    "    sibling = item['personLabel']['value']\n",
    "    person = item['siblingLabel']['value']\n",
    "    RelationSamples.append(RelationSample(person, sibling))\n",
    "\n",
    "rel = Relation(\n",
    "                name=relation_name,\n",
    "                prompt_templates=prompts,\n",
    "                prompt_templates_zs=prompts,\n",
    "                samples=\n",
    "                RelationSamples\n",
    "            )\n",
    "\n",
    "relation_json = rel.to_dict()"
   ]
  },
  {
   "cell_type": "code",
   "execution_count": 19,
   "metadata": {},
   "outputs": [],
   "source": [
    "with open(relation_path_json, \"w\") as file:\n",
    "    json.dump(relation_json, file, indent=4)"
   ]
  }
 ],
 "metadata": {
  "kernelspec": {
   "display_name": ".venv",
   "language": "python",
   "name": "python3"
  },
  "language_info": {
   "codemirror_mode": {
    "name": "ipython",
    "version": 3
   },
   "file_extension": ".py",
   "mimetype": "text/x-python",
   "name": "python",
   "nbconvert_exporter": "python",
   "pygments_lexer": "ipython3",
   "version": "3.12.3"
  }
 },
 "nbformat": 4,
 "nbformat_minor": 2
}
