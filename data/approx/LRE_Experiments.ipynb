{
 "cells": [
  {
   "cell_type": "code",
   "execution_count": 7,
   "id": "75e9713d-b139-47b0-a77a-f8e91c46b3d7",
   "metadata": {},
   "outputs": [],
   "source": [
    "import torch\n",
    "import sys\n",
    "sys.path.append('../..')\n",
    "from transformers import GPTJForCausalLM, AutoTokenizer\n",
    "import lre.models as models\n",
    "import lre.functional as functional"
   ]
  },
  {
   "cell_type": "code",
   "execution_count": 11,
   "id": "6145807a-ffa6-4c33-8c0d-d614fcfb9777",
   "metadata": {},
   "outputs": [],
   "source": [
    "weights = []\n",
    "biases = []\n",
    "for i in range(0,8):\n",
    "    weight_str = f'adj - comparative_{i}_weight.pt'\n",
    "    bias_str = f'adj - comparative_{i}_bias.pt'\n",
    "    weight = torch.load(weight_str)\n",
    "    bias = torch.load(bias_str)\n",
    "    weights.append(weight)\n",
    "    biases.append(bias)\n",
    "\n",
    "weight = torch.stack(weights).mean(dim=0)\n",
    "bias = torch.stack(biases).mean(dim=0)"
   ]
  },
  {
   "cell_type": "code",
   "execution_count": 12,
   "id": "5086d0d3-91df-4403-a9eb-9525b4ddd832",
   "metadata": {},
   "outputs": [],
   "source": [
    "model = GPTJForCausalLM.from_pretrained(\"EleutherAI/gpt-j-6B\", revision=\"float16\", torch_dtype=torch.float16, low_cpu_mem_usage=True)\n",
    "model.to('cuda:1')\n",
    "tokenizer = AutoTokenizer.from_pretrained(\"EleutherAI/gpt-j-6B\")\n",
    "tokenizer.pad_token = tokenizer.eos_token\n",
    "\n",
    "mt = models.ModelAndTokenizer(model,tokenizer)"
   ]
  },
  {
   "cell_type": "code",
   "execution_count": 34,
   "id": "861aaac5-d615-4a2a-9e4f-33b44cfbd44e",
   "metadata": {},
   "outputs": [],
   "source": [
    "adj_comp = [(\"angry\",\"angrier\"),(\"cheap\",\"cheaper\"),(\"clever\",\"cleverer\"),(\"coarse\",\"coarser\"),(\"costly\",\"costlier\"),(\"cute\",\"cuter\"),(\"dense\",\"denser\"),(\"dumb\",\"dumber\"),(\"fierce\",\"fiercer\"),(\"handy\",\"handier\"),(\"happy\",\"happier\"),(\"hardy\",\"hardier\"),(\"harsh\",\"harsher\"),(\"healthy\",\"healthier\"),(\"hot\",\"hotter\"),(\"huge\",\"huger\"),(\"hungry\",\"hungrier\"),(\"lazy\",\"lazier\"),(\"lengthy\",\"lengthier\"),(\"lucky\",\"luckier\"),(\"mad\",\"madder\"),(\"merry\",\"merrier\"),(\"mild\",\"milder\"),(\"moist\",\"moister\"),(\"nasty\",\"nastier\"),(\"neat\",\"neater\"),(\"nice\",\"nicer\"),(\"noisy\",\"noisier\"),(\"proud\",\"prouder\"),(\"pure\",\"purer\"),(\"risky\",\"riskier\"),(\"rocky\",\"rockier\"),(\"rude\",\"ruder\"),(\"sad\",\"sadder\"),(\"scary\",\"scarier\"),(\"sexy\",\"sexier\"),(\"sticky\",\"stickier\"),(\"strict\",\"stricter\"),(\"strong\",\"stronger\"),(\"subtle\",\"subtler\"),(\"sunny\",\"sunnier\"),(\"tasty\",\"tastier\"),(\"tiny\",\"tinier\"),(\"tricky\",\"trickier\"),(\"ugly\",\"uglier\"),(\"vague\",\"vaguer\"),(\"vast\",\"vaster\"),(\"weak\",\"weaker\"),(\"wealthy\",\"wealthier\"),(\"weird\",\"weirder\")]"
   ]
  },
  {
   "cell_type": "code",
   "execution_count": 48,
   "id": "788943db-f5f7-43c2-99ff-5b2122d3c35b",
   "metadata": {},
   "outputs": [],
   "source": [
    "import numpy as np\n",
    "def get_object(mt, subject, prompt, h_layer, beta, k=5):\n",
    "    h_index, inputs = functional.find_subject_token_index(\n",
    "        mt = mt, prompt=prompt, subject=subject)\n",
    "    \n",
    "    [[hs], _] = functional.compute_hidden_states(\n",
    "        mt = mt, layers = [h_layer], inputs = inputs)\n",
    "    #h is hs @ h_layer @ h_index\n",
    "    h = hs[:, h_index]\n",
    "    z = h.mm(weight.t()) * beta + bias\n",
    "    \n",
    "    logits = mt.lm_head(z)\n",
    "    dist = torch.softmax(logits.float(), dim=-1)\n",
    "    topk = dist.topk(dim=-1, k=k)\n",
    "    probs = topk.values.view(k).tolist()\n",
    "    token_ids = topk.indices.view(k).tolist()\n",
    "    words = [mt.tokenizer.decode(token_id) for token_id in token_ids]\n",
    "    \n",
    "    return (words[0], probs[0])"
   ]
  },
  {
   "cell_type": "code",
   "execution_count": 54,
   "id": "a87c78da-386c-49d7-a33b-17266fb5d0fc",
   "metadata": {},
   "outputs": [],
   "source": [
    "def matches(ab, pred):\n",
    "    pred = pred.strip()\n",
    "    a,b = ab[0].strip(), ab[1].strip()\n",
    "    return a != pred and b.startswith(pred) and len(pred) > 1\n",
    "assert(matches((\"angry\", \"angrier\"), \"ang\") is True)\n",
    "assert(matches((\"angry\", \"angrier\"), \"angry\") is False)\n",
    "assert(matches((\"angry\", \"angrier\"), \"c\") is False)"
   ]
  },
  {
   "cell_type": "code",
   "execution_count": 55,
   "id": "d2ad7acf-eafb-405d-b3b4-421f1be2def9",
   "metadata": {},
   "outputs": [
    {
     "name": "stdout",
     "output_type": "stream",
     "text": [
      "2.0:  ang @ 0.21664513647556305\n",
      "5.8:  cheaper @ 0.22746790945529938\n",
      "1.6:  cut @ 0.42602699995040894\n",
      "2.2:  dens @ 0.4076796770095825\n",
      "0.8:  happier @ 0.3849651515483856\n",
      "0.4:  harsher @ 0.6505611538887024\n",
      "1.6:  healthier @ 0.22570645809173584\n",
      "1.2:  hotter @ 0.20283812284469604\n",
      "2.2:  hung @ 0.24170221388339996\n",
      "1.6:  laz @ 0.2366851419210434\n",
      "0.8:  luck @ 0.5512310266494751\n",
      "0.4:  nicer @ 0.387478768825531\n",
      "1.2:  risk @ 0.3307918310165405\n",
      "1.4:  rock @ 0.2553797960281372\n",
      "1.0:  scar @ 0.2768200933933258\n",
      "1.2:  sex @ 0.2641139328479767\n",
      "1.4:  stick @ 0.2387814223766327\n",
      "0.6:  stricter @ 0.48001083731651306\n",
      "0.6:  stronger @ 0.31426379084587097\n",
      "1.4:  sun @ 0.3826473653316498\n",
      "2.2:  tast @ 0.2641790211200714\n",
      "4.2:  tin @ 0.15184414386749268\n",
      "1.0:  trick @ 0.2724017798900604\n",
      "3.2:  weaker @ 0.4922929108142853\n",
      "2.6:  wealthier @ 0.3807961940765381\n"
     ]
    }
   ],
   "source": [
    "for (adj,comp) in adj_comp:\n",
    "    # for beta in range(-10,10):\n",
    "    #     beta = np.exp(beta)\n",
    "    for beta in range(0,30,1):\n",
    "        beta = beta / 5\n",
    "        prompt = f'merry merrier\\n healthy healthier\\n scary scarier\\n vague vaguer\\n wealthy wealthier\\n cheap cheaper\\n {adj}'\n",
    "        (pred, prob) = get_object(mt, adj, prompt, 5, beta)\n",
    "        if(matches((adj,comp), pred)):\n",
    "            print(f\"{beta}: {pred} @ {prob}\")\n",
    "            break"
   ]
  },
  {
   "cell_type": "code",
   "execution_count": 59,
   "id": "f7fa6bed-b5a0-4907-8877-323053195695",
   "metadata": {},
   "outputs": [
    {
     "name": "stderr",
     "output_type": "stream",
     "text": [
      "huggingface/tokenizers: The current process just got forked, after parallelism has already been used. Disabling parallelism to avoid deadlocks...\n",
      "To disable this warning, you can either:\n",
      "\t- Avoid using `tokenizers` before the fork if possible\n",
      "\t- Explicitly set the environment variable TOKENIZERS_PARALLELISM=(true | false)\n"
     ]
    },
    {
     "name": "stdout",
     "output_type": "stream",
     "text": [
      "Requirement already satisfied: wordfreq in /home/exia/miniconda3/lib/python3.12/site-packages (3.1.1)\n",
      "Requirement already satisfied: ftfy>=6.1 in /home/exia/miniconda3/lib/python3.12/site-packages (from wordfreq) (6.2.0)\n",
      "Requirement already satisfied: langcodes>=3.0 in /home/exia/miniconda3/lib/python3.12/site-packages (from wordfreq) (3.4.0)\n",
      "Requirement already satisfied: locate<2.0.0,>=1.1.1 in /home/exia/miniconda3/lib/python3.12/site-packages (from wordfreq) (1.1.1)\n",
      "Requirement already satisfied: msgpack<2.0.0,>=1.0.7 in /home/exia/miniconda3/lib/python3.12/site-packages (from wordfreq) (1.0.8)\n",
      "Requirement already satisfied: regex>=2023.10.3 in /home/exia/miniconda3/lib/python3.12/site-packages (from wordfreq) (2024.5.15)\n",
      "Requirement already satisfied: wcwidth<0.3.0,>=0.2.12 in /home/exia/miniconda3/lib/python3.12/site-packages (from ftfy>=6.1->wordfreq) (0.2.13)\n",
      "Requirement already satisfied: language-data>=1.2 in /home/exia/miniconda3/lib/python3.12/site-packages (from langcodes>=3.0->wordfreq) (1.2.0)\n",
      "Requirement already satisfied: marisa-trie>=0.7.7 in /home/exia/miniconda3/lib/python3.12/site-packages (from language-data>=1.2->langcodes>=3.0->wordfreq) (1.2.0)\n",
      "Requirement already satisfied: setuptools in /home/exia/miniconda3/lib/python3.12/site-packages (from marisa-trie>=0.7.7->language-data>=1.2->langcodes>=3.0->wordfreq) (69.5.1)\n"
     ]
    }
   ],
   "source": [
    "!pip install wordfreq"
   ]
  }
 ],
 "metadata": {
  "kernelspec": {
   "display_name": "Python 3 (ipykernel)",
   "language": "python",
   "name": "python3"
  },
  "language_info": {
   "codemirror_mode": {
    "name": "ipython",
    "version": 3
   },
   "file_extension": ".py",
   "mimetype": "text/x-python",
   "name": "python",
   "nbconvert_exporter": "python",
   "pygments_lexer": "ipython3",
   "version": "3.10.12"
  }
 },
 "nbformat": 4,
 "nbformat_minor": 5
}
