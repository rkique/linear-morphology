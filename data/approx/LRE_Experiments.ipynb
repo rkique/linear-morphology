{
 "cells": [
  {
   "cell_type": "code",
   "execution_count": 65,
   "id": "75e9713d-b139-47b0-a77a-f8e91c46b3d7",
   "metadata": {},
   "outputs": [],
   "source": [
    "import torch\n",
    "import sys\n",
    "sys.path.append('../..')\n",
    "from transformers import GPTJForCausalLM, AutoTokenizer\n",
    "import lre.models as models\n",
    "import lre.functional as functional\n",
    "import os\n",
    "\n",
    "weights = []\n",
    "biases = []\n",
    "\n",
    "wdir = 'antonymsbinary/h5/'\n",
    "weight_str = 'antonyms - binary_weight'\n",
    "bias_str = 'antonyms - binary_bias'\n",
    "\n",
    "weight_paths = [f for f in os.listdir(wdir) if f.startswith(weight_str)]\n",
    "bias_paths = [f for f in os.listdir(wdir) if f.startswith(bias_str)]\n",
    "\n",
    "for bias_path, weight_path in zip(bias_paths, weight_paths):\n",
    "    weight = torch.load(f'{wdir}' + weight_path)\n",
    "    bias = torch.load(f'{wdir}' + bias_path)\n",
    "    weights.append(weight)\n",
    "    biases.append(bias)\n",
    "    \n",
    "weight = torch.stack(weights).mean(dim=0).to(device)\n",
    "bias = torch.stack(biases).mean(dim=0).to(device)"
   ]
  },
  {
   "cell_type": "code",
   "execution_count": 2,
   "id": "5086d0d3-91df-4403-a9eb-9525b4ddd832",
   "metadata": {},
   "outputs": [],
   "source": [
    "model = GPTJForCausalLM.from_pretrained(\"EleutherAI/gpt-j-6B\", revision=\"float16\", torch_dtype=torch.float16, low_cpu_mem_usage=True)\n",
    "model.to('cuda:1')\n",
    "tokenizer = AutoTokenizer.from_pretrained(\"EleutherAI/gpt-j-6B\")\n",
    "tokenizer.pad_token = tokenizer.eos_token\n",
    "\n",
    "mt = models.ModelAndTokenizer(model,tokenizer)"
   ]
  },
  {
   "cell_type": "code",
   "execution_count": 66,
   "id": "861aaac5-d615-4a2a-9e4f-33b44cfbd44e",
   "metadata": {},
   "outputs": [],
   "source": [
    "#testing data\n",
    "import json\n",
    "json_path = 'antonymsbinary/antonymbinary.json'\n",
    "pairs = []\n",
    "with open(json_path, 'r') as file:\n",
    "    data = json.load(file)\n",
    "    for pair in data['samples']:\n",
    "        pairs.append((pair['subject'],pair['object']))"
   ]
  },
  {
   "cell_type": "code",
   "execution_count": 75,
   "id": "788943db-f5f7-43c2-99ff-5b2122d3c35b",
   "metadata": {},
   "outputs": [],
   "source": [
    "import numpy as np\n",
    "def get_object(mt, subject, weight,bias, prompt, h_layer, beta, k=5):\n",
    "    h_index, inputs = functional.find_subject_token_index(\n",
    "        mt = mt, prompt=prompt, subject=subject)\n",
    "    #print(f'h_index is {h_index}, inputs is {inputs}')\n",
    "    [[hs], _] = functional.compute_hidden_states(\n",
    "        mt = mt, layers = [h_layer], inputs = inputs)\n",
    "    #h is hs @ h_layer @ h_index\n",
    "    h = hs[:, h_index]\n",
    "    h = h.to(device)\n",
    "    \n",
    "    #apply mean jacobian and bias\n",
    "    z = h.mm(weight.t()) * beta + bias\n",
    "    \n",
    "    logits = mt.lm_head(z)\n",
    "    dist = torch.softmax(logits.float(), dim=-1)\n",
    "    topk = dist.topk(k=k, dim=-1)\n",
    "    probs = topk.values.view(5).tolist()\n",
    "    token_ids = topk.indices.view(5).tolist()\n",
    "    words = [mt.tokenizer.decode(token_id) for token_id in token_ids]\n",
    "    return (words[0], probs[0])"
   ]
  },
  {
   "cell_type": "code",
   "execution_count": 76,
   "id": "a87c78da-386c-49d7-a33b-17266fb5d0fc",
   "metadata": {},
   "outputs": [],
   "source": [
    "def matches(ab, pred):\n",
    "    pred = pred.strip()\n",
    "    a,b = ab[0].strip(), ab[1].strip()\n",
    "    return a != pred and b.startswith(pred) and len(pred) > 1\n",
    "assert(matches((\"angry\", \"angrier\"), \"ang\") is True)\n",
    "assert(matches((\"angry\", \"angrier\"), \"angry\") is False)\n",
    "assert(matches((\"angry\", \"angrier\"), \"c\") is False)\n",
    "\n",
    "#for most relations.\n",
    "def is_nontrivial_prefix(prediction: str, target: str) -> bool:\n",
    "    target = target.lower().strip()\n",
    "    prediction = prediction.lower().strip()\n",
    "    # if len(prediction) > 0 and target.startswith(prediction):\n",
    "    #     print(f\"{prediction} matches {target}\")\n",
    "    return len(prediction) > 1 and target.startswith(prediction)\n",
    "\n",
    "def any_is_nontrivial_prefix(prediction, targets) -> bool:\n",
    "    return any(is_nontrivial_prefix(prediction, target) for target in targets)"
   ]
  },
  {
   "cell_type": "code",
   "execution_count": 77,
   "id": "2f09f595-b7f9-4c18-9d5e-b2e172a30f91",
   "metadata": {},
   "outputs": [],
   "source": [
    "subj = 'ahead'\n",
    "prompt = f'The opposite of {subj} is'\n",
    "(pred, prob) = get_object(mt,subj,weight,bias,prompt, 5, 3)"
   ]
  },
  {
   "cell_type": "code",
   "execution_count": 78,
   "id": "d2ad7acf-eafb-405d-b3b4-421f1be2def9",
   "metadata": {},
   "outputs": [
    {
     "name": "stdout",
     "output_type": "stream",
     "text": [
      " before,1.9\n",
      "behind, None\n",
      " posterior,1.8\n",
      " forward,1.0\n",
      " after,1.4\n",
      " end,1.7\n",
      " up,1.1\n",
      "descend, None\n",
      " alive,2.2\n",
      " increment,3.1\n",
      " up,1.0\n",
      "emerge, None\n",
      " up,1.0\n",
      " up,1.0\n",
      "lift, None\n",
      " static,2.1\n",
      "dismiss, None\n",
      " entrance,1.7\n",
      " up,1.0\n",
      "last, None\n",
      " remember,2.8\n",
      " backward,1.0\n",
      " back,1.0\n",
      " out,1.0\n",
      " out,1.0\n",
      " exh,3.8\n",
      " out,1.6\n",
      " out,1.0\n",
      " outside,1.4\n",
      " out,1.4\n",
      "reverse, None\n",
      " immortal,2.3\n",
      "vacant, None\n",
      " on,1.0\n",
      " in,1.3\n",
      "upward, None\n",
      "under, None\n",
      " later,2.3\n",
      "retreat, None\n",
      " fall,2.0\n",
      " north,1.2\n",
      " north,1.4\n",
      "emerge, None\n",
      " bottom,1.0\n",
      "away, None\n",
      " false,1.4\n",
      " over,1.0\n",
      " down,1.0\n",
      " downhill,1.2\n",
      " east,1.0\n",
      "37/50 correct\n"
     ]
    }
   ],
   "source": [
    "#word-specific beta sweep\n",
    "device = 'cuda:1'\n",
    "import logging\n",
    "\n",
    "# Set up the basic configuration for logging\n",
    "logging.basicConfig(\n",
    "    filename='_antonymbinary.log',         # Specify the file name\n",
    "    filemode='a',               # 'a' for append mode, 'w' for write mode (overwrites the file)\n",
    "    format='%(asctime)s - %(levelname)s - %(message)s',  # Log format\n",
    "    level=logging.DEBUG         # Set the log level\n",
    ")\n",
    "\n",
    "weight = weight.to(device)\n",
    "bias = bias.to(device)\n",
    "corr = 0\n",
    "logging.info('pred,obj,beta')\n",
    "for pair in pairs:\n",
    "    found = 0\n",
    "    for beta in range(10,40, 1):\n",
    "        beta = beta/10\n",
    "        subj, obj = pair\n",
    "        prompt = f'The opposite of {subj} is'\n",
    "        (pred, prob) = get_object(mt,subj,weight,bias,prompt, 5, beta)\n",
    "        if (any_is_nontrivial_prefix(pred, obj)):\n",
    "            corr += 1\n",
    "            print(f'{pred},{beta}')\n",
    "            logging.info(f'{pred},{beta}')\n",
    "            found = 1\n",
    "            break\n",
    "    (pred, prob) = get_object(mt,subj,weight,bias,prompt, 5, 3)\n",
    "    if found == 0:\n",
    "        print(f'{obj[0]}, None')\n",
    "print(f'{corr}/{len(pairs)} correct')"
   ]
  },
  {
   "cell_type": "code",
   "execution_count": 59,
   "id": "f7fa6bed-b5a0-4907-8877-323053195695",
   "metadata": {},
   "outputs": [
    {
     "name": "stderr",
     "output_type": "stream",
     "text": [
      "huggingface/tokenizers: The current process just got forked, after parallelism has already been used. Disabling parallelism to avoid deadlocks...\n",
      "To disable this warning, you can either:\n",
      "\t- Avoid using `tokenizers` before the fork if possible\n",
      "\t- Explicitly set the environment variable TOKENIZERS_PARALLELISM=(true | false)\n"
     ]
    },
    {
     "name": "stdout",
     "output_type": "stream",
     "text": [
      "Requirement already satisfied: wordfreq in /home/exia/miniconda3/lib/python3.12/site-packages (3.1.1)\n",
      "Requirement already satisfied: ftfy>=6.1 in /home/exia/miniconda3/lib/python3.12/site-packages (from wordfreq) (6.2.0)\n",
      "Requirement already satisfied: langcodes>=3.0 in /home/exia/miniconda3/lib/python3.12/site-packages (from wordfreq) (3.4.0)\n",
      "Requirement already satisfied: locate<2.0.0,>=1.1.1 in /home/exia/miniconda3/lib/python3.12/site-packages (from wordfreq) (1.1.1)\n",
      "Requirement already satisfied: msgpack<2.0.0,>=1.0.7 in /home/exia/miniconda3/lib/python3.12/site-packages (from wordfreq) (1.0.8)\n",
      "Requirement already satisfied: regex>=2023.10.3 in /home/exia/miniconda3/lib/python3.12/site-packages (from wordfreq) (2024.5.15)\n",
      "Requirement already satisfied: wcwidth<0.3.0,>=0.2.12 in /home/exia/miniconda3/lib/python3.12/site-packages (from ftfy>=6.1->wordfreq) (0.2.13)\n",
      "Requirement already satisfied: language-data>=1.2 in /home/exia/miniconda3/lib/python3.12/site-packages (from langcodes>=3.0->wordfreq) (1.2.0)\n",
      "Requirement already satisfied: marisa-trie>=0.7.7 in /home/exia/miniconda3/lib/python3.12/site-packages (from language-data>=1.2->langcodes>=3.0->wordfreq) (1.2.0)\n",
      "Requirement already satisfied: setuptools in /home/exia/miniconda3/lib/python3.12/site-packages (from marisa-trie>=0.7.7->language-data>=1.2->langcodes>=3.0->wordfreq) (69.5.1)\n"
     ]
    }
   ],
   "source": [
    "!pip install wordfreq"
   ]
  }
 ],
 "metadata": {
  "kernelspec": {
   "display_name": "Python 3 (ipykernel)",
   "language": "python",
   "name": "python3"
  },
  "language_info": {
   "codemirror_mode": {
    "name": "ipython",
    "version": 3
   },
   "file_extension": ".py",
   "mimetype": "text/x-python",
   "name": "python",
   "nbconvert_exporter": "python",
   "pygments_lexer": "ipython3",
   "version": "3.10.12"
  }
 },
 "nbformat": 4,
 "nbformat_minor": 5
}
