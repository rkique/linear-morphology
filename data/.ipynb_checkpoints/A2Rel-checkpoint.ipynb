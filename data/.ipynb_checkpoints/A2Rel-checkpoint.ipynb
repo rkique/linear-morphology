{
 "cells": [
  {
   "cell_type": "markdown",
   "metadata": {},
   "source": [
    "This notebook converts a tab-separated file into JSON that can be read by `dataclasses_json` as Relation objects. The intended use is on the BATS (Bigger Analogy Test Set), which comprises forty analogy sets in four different categories. They involve morphological derivatives, morphological inflections, lexical semantics, and encyclopedic knowledge: each can be interpreted as a relation. An attempt was made to provide three different prompt templates where possible."
   ]
  },
  {
   "cell_type": "code",
   "execution_count": 2,
   "metadata": {},
   "outputs": [
    {
     "name": "stderr",
     "output_type": "stream",
     "text": [
      "/Users/eriq/Desktop/my-lre/.venv/lib/python3.12/site-packages/tqdm/auto.py:21: TqdmWarning: IProgress not found. Please update jupyter and ipywidgets. See https://ipywidgets.readthedocs.io/en/stable/user_install.html\n",
      "  from .autonotebook import tqdm as notebook_tqdm\n"
     ]
    }
   ],
   "source": [
    "import sys\n",
    "sys.path.append('..')\n",
    "from lre.data import Relation, RelationSample\n",
    "from lre.operators import JacobianIclEstimator, Word2VecIclEstimator\n",
    "import lre.functional as functional"
   ]
  },
  {
   "cell_type": "code",
   "execution_count": 2,
   "metadata": {},
   "outputs": [],
   "source": [
    "def relation_from_path(path, relation_name, prompts):\n",
    "\n",
    "    RelationSamples = []\n",
    "\n",
    "    with open(path, \"r\") as f:\n",
    "        lines = f.readlines()\n",
    "        lines = [line.replace('\\n','') for line in lines]\n",
    "\n",
    "        for line in lines:\n",
    "            a, bs = line.split('\\t')\n",
    "            bs = bs.split('/')\n",
    "            RelationSamples.append(RelationSample(a, bs))\n",
    "\n",
    "    rel = Relation(\n",
    "                    name=relation_name,\n",
    "                    prompt_templates=prompts,\n",
    "                    prompt_templates_zs=prompts,\n",
    "                    samples=\n",
    "                    RelationSamples\n",
    "                )\n",
    "    return rel"
   ]
  },
  {
   "cell_type": "code",
   "execution_count": 1,
   "metadata": {},
   "outputs": [
    {
     "ename": "NameError",
     "evalue": "name 'relation_from_path' is not defined",
     "output_type": "error",
     "traceback": [
      "\u001b[0;31m---------------------------------------------------------------------------\u001b[0m",
      "\u001b[0;31mNameError\u001b[0m                                 Traceback (most recent call last)",
      "Cell \u001b[0;32mIn[1], line 15\u001b[0m\n\u001b[1;32m      7\u001b[0m relation_tag \u001b[38;5;241m=\u001b[39m relation_name\u001b[38;5;241m.\u001b[39msplit(\u001b[38;5;124m\"\u001b[39m\u001b[38;5;124m[\u001b[39m\u001b[38;5;124m\"\u001b[39m)[\u001b[38;5;241m-\u001b[39m\u001b[38;5;241m1\u001b[39m]\u001b[38;5;241m.\u001b[39msplit(\u001b[38;5;124m\"\u001b[39m\u001b[38;5;124m]\u001b[39m\u001b[38;5;124m\"\u001b[39m)[\u001b[38;5;241m0\u001b[39m]\n\u001b[1;32m      9\u001b[0m prompts \u001b[38;5;241m=\u001b[39m [\n\u001b[1;32m     10\u001b[0m         \u001b[38;5;124m\"\u001b[39m\u001b[38;5;132;01m{}\u001b[39;00m\u001b[38;5;124m was\u001b[39m\u001b[38;5;124m\"\u001b[39m,\n\u001b[1;32m     11\u001b[0m         \u001b[38;5;124m\"\u001b[39m\u001b[38;5;132;01m{}\u001b[39;00m\u001b[38;5;124m identified nationally as\u001b[39m\u001b[38;5;124m\"\u001b[39m,\n\u001b[1;32m     12\u001b[0m         \u001b[38;5;124m\"\u001b[39m\u001b[38;5;132;01m{}\u001b[39;00m\u001b[38;5;124m identifies as\u001b[39m\u001b[38;5;124m\"\u001b[39m\n\u001b[1;32m     13\u001b[0m     ]\n\u001b[0;32m---> 15\u001b[0m relation \u001b[38;5;241m=\u001b[39m \u001b[43mrelation_from_path\u001b[49m(relation_path, relation_tag, prompts)\n\u001b[1;32m     17\u001b[0m subjects \u001b[38;5;241m=\u001b[39m []\n\u001b[1;32m     18\u001b[0m subject_object_pairs \u001b[38;5;241m=\u001b[39m []\n",
      "\u001b[0;31mNameError\u001b[0m: name 'relation_from_path' is not defined"
     ]
    }
   ],
   "source": [
    "#We want to evaluate each subject with any of the available objects.\n",
    "import json\n",
    "\n",
    "relation_name = 'enckno/E04 [name - nationality]'\n",
    "relation_path = 'text/' + relation_name + '.txt'\n",
    "relation_path_json = 'json/' + relation_name + '.json'\n",
    "relation_tag = relation_name.split(\"[\")[-1].split(\"]\")[0]\n",
    "\n",
    "prompts = [\n",
    "        \"{} was\",\n",
    "        \"{} identified nationally as\",\n",
    "        \"{} identifies as\"\n",
    "    ]\n",
    "\n",
    "relation = relation_from_path(relation_path, relation_tag, prompts)\n",
    "\n",
    "subjects = []\n",
    "subject_object_pairs = []\n",
    "all_pairs = []\n",
    "\n",
    "relation_json = relation.to_dict()"
   ]
  },
  {
   "cell_type": "code",
   "execution_count": 16,
   "metadata": {},
   "outputs": [],
   "source": [
    "with open(relation_path_json, \"w\") as file:\n",
    "    json.dump(relation_json, file, indent=4)"
   ]
  }
 ],
 "metadata": {
  "kernelspec": {
   "display_name": ".venv",
   "language": "python",
   "name": "python3"
  },
  "language_info": {
   "codemirror_mode": {
    "name": "ipython",
    "version": 3
   },
   "file_extension": ".py",
   "mimetype": "text/x-python",
   "name": "python",
   "nbconvert_exporter": "python",
   "pygments_lexer": "ipython3",
   "version": "3.12.3"
  }
 },
 "nbformat": 4,
 "nbformat_minor": 2
}
