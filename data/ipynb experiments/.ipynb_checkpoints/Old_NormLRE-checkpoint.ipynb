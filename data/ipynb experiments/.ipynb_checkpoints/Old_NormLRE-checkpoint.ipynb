{
 "cells": [
  {
   "cell_type": "code",
   "execution_count": 6,
   "id": "ce2d6041-30d1-4289-a012-99e10476f16d",
   "metadata": {},
   "outputs": [
    {
     "data": {
      "text/plain": [
       "['fly', 'fox', 'shark', 'snake', 'raccoon', 'gorilla', 'panda', 'horse']"
      ]
     },
     "execution_count": 6,
     "metadata": {},
     "output_type": "execute_result"
    }
   ],
   "source": [
    "import torch\n",
    "import sys\n",
    "sys.path.append('../..')\n",
    "from transformers import GPTJForCausalLM, AutoTokenizer\n",
    "import lre.models as models\n",
    "import lre.functional as functional\n",
    "import os\n",
    "\n",
    "device = \"cuda:1\"\n",
    "weights = []\n",
    "biases = []\n",
    "subjects = []\n",
    "wdir = 'animal_youth'\n",
    "weight_str = 'weight_animal - youth_sem1'\n",
    "bias_str = 'bias_animal - youth_sem1'\n",
    "\n",
    "weight_paths = [f for f in os.listdir(wdir) if f.startswith(weight_str)]\n",
    "bias_paths = [f for f in os.listdir(wdir) if f.startswith(bias_str)]\n",
    "\n",
    "for bias_path, weight_path in zip(bias_paths, weight_paths):\n",
    "    weight = torch.load(f'{wdir}/' + weight_path)\n",
    "    bias = torch.load(f'{wdir}/' + bias_path)\n",
    "    subject = weight_path.split(\"_\")[-2]\n",
    "    weights.append(weight)\n",
    "    biases.append(bias)\n",
    "    subjects.append(subject)\n",
    "    \n",
    "weight = torch.stack(weights).mean(dim=0).to(device)\n",
    "bias = torch.stack(biases).mean(dim=0).to(device)\n",
    "subjects"
   ]
  },
  {
   "cell_type": "code",
   "execution_count": 2,
   "id": "dbf6e436-2d7e-40fb-9e81-5c43a108bebe",
   "metadata": {},
   "outputs": [],
   "source": [
    "model = GPTJForCausalLM.from_pretrained(\"EleutherAI/gpt-j-6B\", revision=\"float16\", torch_dtype=torch.float16, low_cpu_mem_usage=True)\n",
    "model.to('cuda:1')\n",
    "tokenizer = AutoTokenizer.from_pretrained(\"EleutherAI/gpt-j-6B\")\n",
    "tokenizer.pad_token = tokenizer.eos_token\n",
    "\n",
    "mt = models.ModelAndTokenizer(model,tokenizer)"
   ]
  },
  {
   "cell_type": "code",
   "execution_count": 3,
   "id": "35c6b465-5096-42d3-8604-3512556c6a56",
   "metadata": {},
   "outputs": [],
   "source": [
    "#testing data\n",
    "import json\n",
    "json_path = 'animal-youth.json'\n",
    "pairs = []\n",
    "with open(json_path, 'r') as file:\n",
    "    data = json.load(file)\n",
    "    for pair in data['samples']:\n",
    "        pairs.append((pair['subject'],pair['object']))"
   ]
  },
  {
   "cell_type": "code",
   "execution_count": 5,
   "id": "a3d8b024-6d18-4d6a-8dae-04a8a29836e1",
   "metadata": {},
   "outputs": [],
   "source": [
    "import numpy as np\n",
    "def get_object(mt, subject, weight,bias, prompt, h_layer, beta, k=5):\n",
    "    h_index, inputs = functional.find_subject_token_index(\n",
    "        mt = mt, prompt=prompt, subject=subject)\n",
    "    #print(f'h_index is {h_index}, inputs is {inputs}')\n",
    "    [[hs], _] = functional.compute_hidden_states(\n",
    "        mt = mt, layers = [h_layer], inputs = inputs)\n",
    "    #h is hs @ h_layer @ h_index\n",
    "    h = hs[:, h_index]\n",
    "    h = h.to(device)\n",
    "    \n",
    "    #apply mean jacobian and bias\n",
    "    z = h.mm(weight.t()) * beta + bias\n",
    "    \n",
    "    logits = mt.lm_head(z)\n",
    "    dist = torch.softmax(logits.float(), dim=-1)\n",
    "    topk = dist.topk(k=k, dim=-1)\n",
    "    probs = topk.values.view(5).tolist()\n",
    "    token_ids = topk.indices.view(5).tolist()\n",
    "    words = [mt.tokenizer.decode(token_id) for token_id in token_ids]\n",
    "    return (words[0], probs[0])"
   ]
  },
  {
   "cell_type": "code",
   "execution_count": 29,
   "id": "0aa2b1c4-4ca6-4197-b9be-b0b460f6da94",
   "metadata": {
    "scrolled": true
   },
   "outputs": [],
   "source": [
    "#get subject representation for each ICL example\n",
    "#default h_layer is 5 for the LREs I calculated here.\n",
    "h_layer = 5\n",
    "\n",
    "def hs(word, prompt):\n",
    "    h_index, inputs = functional.find_subject_token_index(\n",
    "    mt = mt, prompt=prompt, subject=word)\n",
    "    [[hs], _] = functional.compute_hidden_states(\n",
    "        mt = mt, layers = [h_layer], inputs = inputs)\n",
    "    #h = hs @ h_layer @ h_index\n",
    "    h = hs[:, h_index]\n",
    "    h = h.to(device)\n",
    "    return h"
   ]
  },
  {
   "cell_type": "code",
   "execution_count": 30,
   "id": "86070b94-6c2d-4eb0-94e3-a5966a78b563",
   "metadata": {},
   "outputs": [],
   "source": [
    "eps = 0.00001\n",
    "\n",
    "def layer_norm(s, gamma, beta):\n",
    "    mean = torch.mean(s, dim=dim, keepdim=True)\n",
    "    var = torch.square(s - mean).mean(dim=dim + eps)\n",
    "    return (s - mean) / torch.sqrt(var + eps) * gamma + beta\n",
    "\n",
    "subj = \"fox\"\n",
    "prompt = f\"The offspring of a {subj} is referred to as a\""
   ]
  },
  {
   "cell_type": "code",
   "execution_count": 31,
   "id": "804f6d24-d968-44e2-a78b-b2c695331b52",
   "metadata": {},
   "outputs": [],
   "source": [
    "json_path = 'animal-youth.json'\n",
    "pairs = []\n",
    "with open(json_path, 'r') as file:\n",
    "    data = json.load(file)\n",
    "    for pair in data['samples']:\n",
    "        pairs.append((pair['subject'],pair['object']))"
   ]
  },
  {
   "cell_type": "code",
   "execution_count": 35,
   "id": "d2b84d99-82af-47dc-b279-976c3683e04b",
   "metadata": {},
   "outputs": [
    {
     "name": "stdout",
     "output_type": "stream",
     "text": [
      "tensor([0.7586, 0.6245, 0.2535,  ..., 0.2904, 0.4962, 0.8786]) tensor([ 0.0448, -0.0083, -0.4259,  ..., -0.1480,  0.1817, -0.6047])\n"
     ]
    }
   ],
   "source": [
    "from baukit.baukit import parameter_names, get_parameter\n",
    "\n",
    "#returns weight and bias for lns\n",
    "def get_layer_norm_params(mt, start, end):\n",
    "    weights = []\n",
    "    biases = []\n",
    "    for i in range(start, end):\n",
    "        w_name = f'transformer.h.{i}.ln_1.weight'\n",
    "        b_name = f'transformer.h.{i}.ln_1.bias'\n",
    "        weight = get_parameter(model=mt.model,name=w_name).data\n",
    "        bias = get_parameter(model=mt.model,name=b_name).data\n",
    "        weights.append(weight.cpu())\n",
    "        biases.append(bias.cpu())\n",
    "    return weights,biases\n",
    "    \n",
    "ln_weights,ln_biases = get_layer_norm_params(mt,5,27)\n",
    "\n",
    "gamma = torch.ones(4096)\n",
    "\n",
    "for weight in ln_weights:\n",
    "    gamma = gamma * weight\n",
    "\n",
    "beta = torch.zeros(4096)\n",
    "for bias in ln_biases:\n",
    "    beta = beta + bias\n",
    "\n",
    "#this feels very stupid\n",
    "print(gamma,beta)"
   ]
  },
  {
   "cell_type": "code",
   "execution_count": 34,
   "id": "25d8ae09-72c7-4124-8f14-d552a1f5081e",
   "metadata": {},
   "outputs": [
    {
     "ename": "RuntimeError",
     "evalue": "mat2 must be a matrix",
     "output_type": "error",
     "traceback": [
      "\u001b[0;31m---------------------------------------------------------------------------\u001b[0m",
      "\u001b[0;31mRuntimeError\u001b[0m                              Traceback (most recent call last)",
      "Cell \u001b[0;32mIn[34], line 14\u001b[0m\n\u001b[1;32m     11\u001b[0m prompt \u001b[38;5;241m=\u001b[39m \u001b[38;5;124mf\u001b[39m\u001b[38;5;124m\"\u001b[39m\u001b[38;5;124mThe offspring of a \u001b[39m\u001b[38;5;132;01m{\u001b[39;00msubj\u001b[38;5;132;01m}\u001b[39;00m\u001b[38;5;124m is referred to as a\u001b[39m\u001b[38;5;124m\"\u001b[39m\n\u001b[1;32m     13\u001b[0m \u001b[38;5;66;03m#LRE (beta = 1)\u001b[39;00m\n\u001b[0;32m---> 14\u001b[0m (pred, prob) \u001b[38;5;241m=\u001b[39m \u001b[43mget_object\u001b[49m\u001b[43m(\u001b[49m\u001b[43mmt\u001b[49m\u001b[43m,\u001b[49m\u001b[43m \u001b[49m\u001b[43msubj\u001b[49m\u001b[43m,\u001b[49m\u001b[43m \u001b[49m\u001b[43mweight\u001b[49m\u001b[43m,\u001b[49m\u001b[43m \u001b[49m\u001b[43mbias\u001b[49m\u001b[43m,\u001b[49m\u001b[43m \u001b[49m\u001b[43mprompt\u001b[49m\u001b[43m,\u001b[49m\u001b[43m \u001b[49m\u001b[43mh_layer\u001b[49m\u001b[43m,\u001b[49m\u001b[43m \u001b[49m\u001b[38;5;241;43m1\u001b[39;49m\u001b[43m)\u001b[49m\n\u001b[1;32m     15\u001b[0m \u001b[38;5;28mprint\u001b[39m(\u001b[38;5;124mf\u001b[39m\u001b[38;5;124m'\u001b[39m\u001b[38;5;132;01m{\u001b[39;00msubj\u001b[38;5;132;01m}\u001b[39;00m\u001b[38;5;124m,\u001b[39m\u001b[38;5;132;01m{\u001b[39;00mpred\u001b[38;5;132;01m}\u001b[39;00m\u001b[38;5;124m,\u001b[39m\u001b[38;5;132;01m{\u001b[39;00mobjs\u001b[38;5;132;01m}\u001b[39;00m\u001b[38;5;124m'\u001b[39m)\n\u001b[1;32m     17\u001b[0m \u001b[38;5;66;03m#LayerNormLRE: should actually factor into original weight and bias calculation.\u001b[39;00m\n",
      "Cell \u001b[0;32mIn[5], line 13\u001b[0m, in \u001b[0;36mget_object\u001b[0;34m(mt, subject, weight, bias, prompt, h_layer, beta, k)\u001b[0m\n\u001b[1;32m     10\u001b[0m h \u001b[38;5;241m=\u001b[39m h\u001b[38;5;241m.\u001b[39mto(device)\n\u001b[1;32m     12\u001b[0m \u001b[38;5;66;03m#apply mean jacobian and bias\u001b[39;00m\n\u001b[0;32m---> 13\u001b[0m z \u001b[38;5;241m=\u001b[39m \u001b[43mh\u001b[49m\u001b[38;5;241;43m.\u001b[39;49m\u001b[43mmm\u001b[49m\u001b[43m(\u001b[49m\u001b[43mweight\u001b[49m\u001b[38;5;241;43m.\u001b[39;49m\u001b[43mt\u001b[49m\u001b[43m(\u001b[49m\u001b[43m)\u001b[49m\u001b[43m)\u001b[49m \u001b[38;5;241m*\u001b[39m beta \u001b[38;5;241m+\u001b[39m bias\n\u001b[1;32m     15\u001b[0m logits \u001b[38;5;241m=\u001b[39m mt\u001b[38;5;241m.\u001b[39mlm_head(z)\n\u001b[1;32m     16\u001b[0m dist \u001b[38;5;241m=\u001b[39m torch\u001b[38;5;241m.\u001b[39msoftmax(logits\u001b[38;5;241m.\u001b[39mfloat(), dim\u001b[38;5;241m=\u001b[39m\u001b[38;5;241m-\u001b[39m\u001b[38;5;241m1\u001b[39m)\n",
      "\u001b[0;31mRuntimeError\u001b[0m: mat2 must be a matrix"
     ]
    }
   ],
   "source": [
    "hss = []\n",
    "for subj in subjects:\n",
    "    prompt = f\"The offspring of a {subj} is referred to as a\"\n",
    "    hss.append(hs(subj, prompt))\n",
    "\n",
    "weight = weight.to(device)\n",
    "bias = bias.to(device)\n",
    "\n",
    "for pair in pairs:\n",
    "    subj, objs = pair\n",
    "    prompt = f\"The offspring of a {subj} is referred to as a\"\n",
    "    \n",
    "    #LRE (beta = 1)\n",
    "    (pred, prob) = get_object(mt, subj, weight, bias, prompt, h_layer, 1)\n",
    "    print(f'{subj},{pred},{objs}')\n",
    "\n",
    "    #LayerNormLRE should actually factor into original weight and bias calculation.\n",
    "    subj_hs = hs(subj, prompt)\n",
    "    hss_hs = hss + [subj_hs]\n",
    "    norm_subj = layer_norm(hss_hs, gamma, beta)\n",
    "    (pred, prob) = get_object(mt, norm_subj, weight, bias, prompt, h_layer, 1)\n",
    "    print(f'{subj},{pred},{objs}')"
   ]
  },
  {
   "cell_type": "code",
   "execution_count": null,
   "id": "fcb4f69e-e499-4d6c-81b3-45140f624002",
   "metadata": {},
   "outputs": [],
   "source": []
  }
 ],
 "metadata": {
  "kernelspec": {
   "display_name": "Python 3 (ipykernel)",
   "language": "python",
   "name": "python3"
  },
  "language_info": {
   "codemirror_mode": {
    "name": "ipython",
    "version": 3
   },
   "file_extension": ".py",
   "mimetype": "text/x-python",
   "name": "python",
   "nbconvert_exporter": "python",
   "pygments_lexer": "ipython3",
   "version": "3.10.12"
  }
 },
 "nbformat": 4,
 "nbformat_minor": 5
}
