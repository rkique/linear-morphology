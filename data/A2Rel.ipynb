{
 "cells": [
  {
   "cell_type": "code",
   "execution_count": 36,
   "metadata": {},
   "outputs": [],
   "source": [
    "import sys\n",
    "sys.path.append('..')\n",
    "from lre.data import Relation, RelationSample\n",
    "from lre.operators import JacobianIclEstimator, Word2VecIclEstimator\n",
    "import lre.functional as functional"
   ]
  },
  {
   "cell_type": "code",
   "execution_count": 40,
   "metadata": {},
   "outputs": [],
   "source": [
    "def relation_from_path(path, relation_name, prompts):\n",
    "\n",
    "    RelationSamples = []\n",
    "\n",
    "    with open(path, \"r\") as f:\n",
    "        lines = f.readlines()\n",
    "        lines = [line.replace('\\n','') for line in lines]\n",
    "\n",
    "        for line in lines:\n",
    "            a, bs = line.split('\\t')\n",
    "            bs = bs.split('/')\n",
    "            RelationSamples.append(RelationSample(a, bs))\n",
    "\n",
    "    rel = Relation(\n",
    "                    name=relation_name,\n",
    "                    prompt_templates=prompts,\n",
    "                    prompt_templates_zs=prompts,\n",
    "                    samples=\n",
    "                    RelationSamples\n",
    "                )\n",
    "    return rel"
   ]
  },
  {
   "cell_type": "code",
   "execution_count": 81,
   "metadata": {},
   "outputs": [],
   "source": [
    "#We want to evaluate each subject with any of the available objects.\n",
    "import json\n",
    "\n",
    "relation_name = 'infmor/I10 [verb_3pSg - Ved]'\n",
    "relation_path = 'text/' + relation_name + '.txt'\n",
    "relation_path_json = 'json/' + relation_name + '.json'\n",
    "relation_tag = relation_name.split(\"[\")[-1].split(\"]\")[0]\n",
    "\n",
    "prompts = [\n",
    "    \"When he {} something, something has been {}\",\n",
    "    \"When she {} something, something has been {}\",\n",
    "    \"When it {} something, something has been {}\"\n",
    "    ]\n",
    "\n",
    "relation = relation_from_path(relation_path, relation_tag, prompts)\n",
    "\n",
    "subjects = []\n",
    "subject_object_pairs = []\n",
    "all_pairs = []\n",
    "\n",
    "relation_json = relation.to_dict()"
   ]
  },
  {
   "cell_type": "code",
   "execution_count": 82,
   "metadata": {},
   "outputs": [],
   "source": [
    "with open(relation_path_json, \"w\") as file:\n",
    "    json.dump(relation_json, file, indent=4)"
   ]
  }
 ],
 "metadata": {
  "kernelspec": {
   "display_name": ".venv",
   "language": "python",
   "name": "python3"
  },
  "language_info": {
   "codemirror_mode": {
    "name": "ipython",
    "version": 3
   },
   "file_extension": ".py",
   "mimetype": "text/x-python",
   "name": "python",
   "nbconvert_exporter": "python",
   "pygments_lexer": "ipython3",
   "version": "3.12.3"
  }
 },
 "nbformat": 4,
 "nbformat_minor": 2
}
