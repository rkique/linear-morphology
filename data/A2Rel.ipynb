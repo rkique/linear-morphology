{
 "cells": [
  {
   "cell_type": "markdown",
   "metadata": {},
   "source": [
    "This notebook converts a tab-separated file into JSON that can be read by `dataclasses_json` as Relation objects. The intended use is on the BATS (Bigger Analogy Test Set), which comprises forty analogy sets in four different categories. They involve morphological derivatives, morphological inflections, lexical semantics, and encyclopedic knowledge: each can be interpreted as a relation. An attempt was made to provide three different prompt templates where possible."
   ]
  },
  {
   "cell_type": "code",
   "execution_count": 4,
   "metadata": {},
   "outputs": [
    {
     "name": "stderr",
     "output_type": "stream",
     "text": [
      "/Users/eriq/Desktop/my-lre/.venv/lib/python3.12/site-packages/tqdm/auto.py:21: TqdmWarning: IProgress not found. Please update jupyter and ipywidgets. See https://ipywidgets.readthedocs.io/en/stable/user_install.html\n",
      "  from .autonotebook import tqdm as notebook_tqdm\n"
     ]
    }
   ],
   "source": [
    "import sys\n",
    "sys.path.append('..')\n",
    "from lre.data import Relation, RelationSample\n",
    "from lre.operators import JacobianIclEstimator, Word2VecIclEstimator\n",
    "import lre.functional as functional"
   ]
  },
  {
   "cell_type": "code",
   "execution_count": 5,
   "metadata": {},
   "outputs": [],
   "source": [
    "def relation_from_path(path, relation_name, prompts):\n",
    "\n",
    "    RelationSamples = []\n",
    "\n",
    "    with open(path, \"r\") as f:\n",
    "        lines = f.readlines()\n",
    "        lines = [line.replace('\\n','') for line in lines]\n",
    "\n",
    "        for line in lines:\n",
    "            a, bs = line.split('\\t')\n",
    "            bs = bs.split('/')\n",
    "            RelationSamples.append(RelationSample(a, bs))\n",
    "\n",
    "    rel = Relation(\n",
    "                    name=relation_name,\n",
    "                    prompt_templates=prompts,\n",
    "                    prompt_templates_zs=prompts,\n",
    "                    samples=\n",
    "                    RelationSamples\n",
    "                )\n",
    "    return rel"
   ]
  },
  {
   "cell_type": "code",
   "execution_count": 6,
   "metadata": {},
   "outputs": [],
   "source": [
    "#We want to evaluate each subject with any of the available objects.\n",
    "import json\n",
    "\n",
    "relation_name = 'lexsem/L10 [antonyms - binary]'\n",
    "relation_path = 'text/' + relation_name + '.txt'\n",
    "relation_path_json = 'json/' + relation_name + '.json'\n",
    "relation_tag = relation_name.split(\"[\")[-1].split(\"]\")[0]\n",
    "\n",
    "prompts = [\n",
    "    \"The opposite of {} is\",\n",
    "    \"The inverse of {} is\",\n",
    "    \"Something that is {} is not\"\n",
    "    ]\n",
    "\n",
    "relation = relation_from_path(relation_path, relation_tag, prompts)\n",
    "\n",
    "subjects = []\n",
    "subject_object_pairs = []\n",
    "all_pairs = []\n",
    "\n",
    "relation_json = relation.to_dict()"
   ]
  },
  {
   "cell_type": "code",
   "execution_count": 7,
   "metadata": {},
   "outputs": [],
   "source": [
    "with open(relation_path_json, \"w\") as file:\n",
    "    json.dump(relation_json, file, indent=4)"
   ]
  }
 ],
 "metadata": {
  "kernelspec": {
   "display_name": ".venv",
   "language": "python",
   "name": "python3"
  },
  "language_info": {
   "codemirror_mode": {
    "name": "ipython",
    "version": 3
   },
   "file_extension": ".py",
   "mimetype": "text/x-python",
   "name": "python",
   "nbconvert_exporter": "python",
   "pygments_lexer": "ipython3",
   "version": "3.12.3"
  }
 },
 "nbformat": 4,
 "nbformat_minor": 2
}
