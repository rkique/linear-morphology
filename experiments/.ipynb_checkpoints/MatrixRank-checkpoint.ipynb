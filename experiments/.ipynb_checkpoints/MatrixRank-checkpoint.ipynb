{
 "cells": [
  {
   "cell_type": "code",
   "execution_count": null,
   "id": "7c4d83fb-81af-4c29-8b65-0f104333a540",
   "metadata": {},
   "outputs": [
    {
     "name": "stderr",
     "output_type": "stream",
     "text": [
      "/home/exia/miniconda3/envs/my-lre/lib/python3.12/site-packages/tqdm/auto.py:21: TqdmWarning: IProgress not found. Please update jupyter and ipywidgets. See https://ipywidgets.readthedocs.io/en/stable/user_install.html\n",
      "  from .autonotebook import tqdm as notebook_tqdm\n"
     ]
    }
   ],
   "source": [
    "import torch\n",
    "import sys\n",
    "sys.path.append('..')\n",
    "from transformers import GPTJForCausalLM, AutoTokenizer\n",
    "import lre.models as models\n",
    "import lre.functional as functional\n",
    "import os\n",
    "\n",
    "import json\n",
    "import random\n",
    "from lre.data import Relation, RelationSample, Sequence\n",
    "import lre.metrics as metrics\n",
    "import lre.functional as functional\n",
    "\n",
    "device = 'cuda:1'\n",
    "weights = []\n",
    "biases = []\n",
    "subjects = []\n",
    "model = GPTJForCausalLM.from_pretrained(\"EleutherAI/gpt-j-6B\", revision=\"float16\", torch_dtype=torch.float16, low_cpu_mem_usage=True)\n",
    "model.to(device)\n",
    "tokenizer = AutoTokenizer.from_pretrained(\"EleutherAI/gpt-j-6B\")\n",
    "tokenizer.pad_token = tokenizer.eos_token\n",
    "mt = models.ModelAndTokenizer(model,tokenizer)"
   ]
  },
  {
   "cell_type": "code",
   "execution_count": null,
   "id": "7d52b498-d9c0-4ac8-8dd7-ea46d3893f20",
   "metadata": {},
   "outputs": [],
   "source": [
    "import llra.build as build\n",
    "from importlib import reload\n",
    "reload(build)\n",
    "build.determine_device(mt)\n",
    "build.determine_params(mt)\n",
    "start, end = 5, 27"
   ]
  },
  {
   "cell_type": "code",
   "execution_count": 20,
   "id": "c89eaaa6-e350-401a-80fb-bef421974cc1",
   "metadata": {
    "scrolled": true
   },
   "outputs": [
    {
     "name": "stdout",
     "output_type": "stream",
     "text": [
      "name - nationality weight matrix rank: 3881\n",
      "animal - youth weight matrix rank: 3809\n",
      "verb_Ving - 3pSg weight matrix rank: 3848\n",
      "verb+able_reg weight matrix rank: 3799\n",
      "UK_city - county weight matrix rank: 3542\n",
      "antonyms - binary weight matrix rank: 3976\n",
      "verb_inf - 3pSg weight matrix rank: 3832\n",
      "re+verb_reg weight matrix rank: 3803\n",
      "verb_inf - Ved weight matrix rank: 3914\n",
      "country - language weight matrix rank: 3591\n",
      "meronyms - part weight matrix rank: 3927\n",
      "verb_Ving - Ved weight matrix rank: 3905\n",
      "animal - shelter weight matrix rank: 3787\n",
      "hypernyms - misc weight matrix rank: 3830\n",
      "meronyms - substance weight matrix rank: 3913\n",
      "noun - plural_irreg weight matrix rank: 3914\n",
      "un+adj_reg weight matrix rank: 3935\n",
      "verb+ment_irreg weight matrix rank: 3807\n",
      "adj+ness_reg weight matrix rank: 3834\n",
      "over+adj_reg weight matrix rank: 3793\n",
      "verb+er_irreg weight matrix rank: 3735\n",
      "adj+ly_reg weight matrix rank: 3814\n",
      "name - occupation weight matrix rank: 3873\n",
      "synonyms - intensity weight matrix rank: 3956\n",
      "animal - sound weight matrix rank: 3693\n",
      "noun - plural_reg weight matrix rank: 3901\n",
      "Ving - verb_inf weight matrix rank: 3638\n",
      "male - female weight matrix rank: 3880\n",
      "verb_3pSg - Ved weight matrix rank: 3754\n",
      "meronyms - member weight matrix rank: 3854\n",
      "hyponyms - misc weight matrix rank: 3910\n",
      "adj - superlative weight matrix rank: 3877\n",
      "verb+tion_irreg weight matrix rank: 3798\n",
      "synonyms - exact weight matrix rank: 3964\n",
      "hypernyms - animals weight matrix rank: 3762\n",
      "country - capital weight matrix rank: 3784\n"
     ]
    }
   ],
   "source": [
    "import llra.build as build\n",
    "#OBTAIN LRE WEIGHTS: Method 1\n",
    "#Load weights saved with new naming convention\n",
    "\n",
    "relations = ['name - nationality',\n",
    " 'animal - youth',\n",
    " 'verb_Ving - 3pSg',\n",
    "# 'noun+less_reg', #last one to do!\n",
    " 'verb+able_reg',\n",
    " 'UK_city - county',\n",
    " 'antonyms - binary',\n",
    " 'verb_inf - 3pSg',\n",
    " 're+verb_reg',\n",
    " 'verb_inf - Ved',\n",
    "'country - language',\n",
    " 'meronyms - part',\n",
    " 'verb_Ving - Ved',\n",
    " 'animal - shelter',\n",
    " 'hypernyms - misc',\n",
    " 'meronyms - substance',\n",
    " 'noun - plural_irreg',\n",
    " 'un+adj_reg',\n",
    " 'verb+ment_irreg',\n",
    " 'adj+ness_reg',\n",
    " 'over+adj_reg',\n",
    " 'verb+er_irreg',\n",
    " 'adj+ly_reg',\n",
    " 'name - occupation',\n",
    " 'synonyms - intensity',\n",
    " #'LN_full verb+tion_irreg',\n",
    " 'animal - sound',\n",
    " 'noun - plural_reg',\n",
    " 'Ving - verb_inf',\n",
    " 'male - female',\n",
    " 'verb_3pSg - Ved',\n",
    " 'meronyms - member',\n",
    " 'hyponyms - misc',\n",
    " 'adj - superlative',\n",
    " #'.ipynb_checkpoints',\n",
    " 'verb+tion_irreg',\n",
    " 'synonyms - exact',\n",
    " 'hypernyms - animals',\n",
    " 'country - capital'\n",
    "]\n",
    "\n",
    "def find_exact_match(filename, search_string):\n",
    "    with open(filename, 'r') as file:\n",
    "        for line in file:\n",
    "            if search_string.lower() in line.strip().lower():\n",
    "                return line.strip()\n",
    "    print(f\"Could not find {search_string}\")\n",
    "    return None\n",
    "    \n",
    "from baukit.baukit import parameter_names, get_parameter\n",
    "import torch.nn as nn\n",
    "\n",
    "N_ICL = 8 \n",
    "N_AVG = 8\n",
    "N_TRIALS = 8\n",
    "VIEW_SAMPLES = 5\n",
    "\n",
    "for relation in relations:\n",
    "    wdir = f\"ln_approx/{relation}\"\n",
    "    ignored_names = ['.ipynb_checkpoints', 'disappoint']\n",
    "    j_samples = [x for x in os.listdir(wdir) if x not in ignored_names]\n",
    "    j_samples = random.sample(j_samples, N_AVG)\n",
    "    #print(f'using {j_samples} to build LRE')\n",
    "    reg_weight = build.mean_weight_or_bias(wdir,\n",
    "                                           's_o_weight_5_27', j_samples).half().to(device)\n",
    "    reg_bias = build.mean_weight_or_bias(wdir,\n",
    "                                         's_o_bias_5_27', j_samples).half().to(device)\n",
    "    reg_weight = np.float32(reg_weight.detach().cpu().numpy())\n",
    "    rank = np.linalg.matrix_rank(reg_weight)\n",
    "    print(f'{relation} weight matrix rank: {rank}')"
   ]
  },
  {
   "cell_type": "code",
   "execution_count": 16,
   "id": "3c37aa4f-4d20-4e49-87ca-407dd441f7e9",
   "metadata": {},
   "outputs": [],
   "source": []
  },
  {
   "cell_type": "code",
   "execution_count": 17,
   "id": "65678c9b-4a1a-4a72-8a36-a83749eced78",
   "metadata": {},
   "outputs": [],
   "source": []
  },
  {
   "cell_type": "code",
   "execution_count": 18,
   "id": "13fb3bc2-572d-4f82-9c5e-5d1729b67b49",
   "metadata": {},
   "outputs": [
    {
     "name": "stdout",
     "output_type": "stream",
     "text": [
      "3664\n"
     ]
    }
   ],
   "source": [
    "import numpy as np\n"
   ]
  },
  {
   "cell_type": "code",
   "execution_count": null,
   "id": "d070be37-6604-4a9f-9c71-3f749b39b21d",
   "metadata": {},
   "outputs": [],
   "source": [
    "#this number better be low!\n",
    "\n",
    "#adj+ly matrix rank: 3828\n",
    "#country - language rank: 3664\n"
   ]
  }
 ],
 "metadata": {
  "kernelspec": {
   "display_name": "myenv",
   "language": "python",
   "name": "myenv"
  },
  "language_info": {
   "codemirror_mode": {
    "name": "ipython",
    "version": 3
   },
   "file_extension": ".py",
   "mimetype": "text/x-python",
   "name": "python",
   "nbconvert_exporter": "python",
   "pygments_lexer": "ipython3",
   "version": "3.12.4"
  }
 },
 "nbformat": 4,
 "nbformat_minor": 5
}
